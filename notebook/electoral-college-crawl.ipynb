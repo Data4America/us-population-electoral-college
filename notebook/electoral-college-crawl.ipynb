{
 "cells": [
  {
   "cell_type": "code",
   "execution_count": 1,
   "metadata": {},
   "outputs": [],
   "source": [
    "from bs4 import BeautifulSoup\n",
    "import requests\n",
    "import re\n",
    "import pandas as pd"
   ]
  },
  {
   "cell_type": "code",
   "execution_count": 2,
   "metadata": {},
   "outputs": [],
   "source": [
    "us_electoral_college_wiki_page_link = 'https://en.wikipedia.org/wiki/United_States_Electoral_College'\n",
    "request = requests.get(us_electoral_college_wiki_page_link)\n",
    "page = BeautifulSoup(request.text)"
   ]
  },
  {
   "cell_type": "code",
   "execution_count": 3,
   "metadata": {},
   "outputs": [],
   "source": [
    "table = page.find(lambda tag: tag.name == 'big' and 'presidential electors' in tag.text).find_parent('table', class_='wikitable sortable')"
   ]
  },
  {
   "cell_type": "code",
   "execution_count": 4,
   "metadata": {},
   "outputs": [],
   "source": [
    "years_headers = table.find_all(lambda tag: tag.name == 'th' and bool(tag.find('a')) and '\\'' in tag.find('a').text)"
   ]
  },
  {
   "cell_type": "code",
   "execution_count": 5,
   "metadata": {},
   "outputs": [],
   "source": [
    "first_state_row = table.find(lambda tag: tag.name == 'a' and tag.attrs['href'] == '/wiki/Alabama').find_parent('tr')"
   ]
  },
  {
   "cell_type": "code",
   "execution_count": 6,
   "metadata": {},
   "outputs": [],
   "source": [
    "state_rows = [first_state_row] + first_state_row.find_next_siblings(lambda tag: tag.name == 'tr' and bool(tag.find('a')))"
   ]
  },
  {
   "cell_type": "code",
   "execution_count": 7,
   "metadata": {},
   "outputs": [],
   "source": [
    "def map_links_to_election_years(links):\n",
    "    return list(map(lambda x: int(x.attrs['title'][:4]), links))"
   ]
  },
  {
   "cell_type": "code",
   "execution_count": 8,
   "metadata": {},
   "outputs": [],
   "source": [
    "years_headers = list(map(lambda x: map_links_to_election_years(x.find_all('a')), years_headers))"
   ]
  },
  {
   "cell_type": "code",
   "execution_count": 9,
   "metadata": {},
   "outputs": [],
   "source": [
    "electoral_college_vote_count_col = []\n",
    "year_col = []\n",
    "state_col = []"
   ]
  },
  {
   "cell_type": "code",
   "execution_count": 10,
   "metadata": {},
   "outputs": [],
   "source": [
    "for state in state_rows:\n",
    "    state_name = state.select('th a')[0].text\n",
    "    count_numbers = state.find_all('td')\n",
    "    \n",
    "    for index, count_ele in enumerate(count_numbers):\n",
    "        years = years_headers[index]\n",
    "        year_count = len(years)\n",
    "        vote_count = int(count_ele.text.strip() or 0)\n",
    "    \n",
    "        year_col += years\n",
    "        electoral_college_vote_count_col += ([vote_count] * year_count)\n",
    "        state_col += ([state_name] * year_count)"
   ]
  },
  {
   "cell_type": "code",
   "execution_count": 11,
   "metadata": {},
   "outputs": [],
   "source": [
    "df = pd.DataFrame({\n",
    "    'Year': year_col,\n",
    "    'Electoral college vote count': electoral_college_vote_count_col,\n",
    "    'State': state_col\n",
    "})"
   ]
  },
  {
   "cell_type": "code",
   "execution_count": 12,
   "metadata": {},
   "outputs": [],
   "source": [
    "df.to_csv('../data/electoral_college_vote.csv', index=False)"
   ]
  },
  {
   "cell_type": "code",
   "execution_count": 22,
   "metadata": {},
   "outputs": [
    {
     "data": {
      "text/html": [
       "<div>\n",
       "<style scoped>\n",
       "    .dataframe tbody tr th:only-of-type {\n",
       "        vertical-align: middle;\n",
       "    }\n",
       "\n",
       "    .dataframe tbody tr th {\n",
       "        vertical-align: top;\n",
       "    }\n",
       "\n",
       "    .dataframe thead th {\n",
       "        text-align: right;\n",
       "    }\n",
       "</style>\n",
       "<table border=\"1\" class=\"dataframe\">\n",
       "  <thead>\n",
       "    <tr style=\"text-align: right;\">\n",
       "      <th></th>\n",
       "      <th>Year</th>\n",
       "      <th>Electoral college vote count</th>\n",
       "      <th>State</th>\n",
       "    </tr>\n",
       "  </thead>\n",
       "  <tbody>\n",
       "    <tr>\n",
       "      <th>1860</th>\n",
       "      <td>1912</td>\n",
       "      <td>3</td>\n",
       "      <td>New Mexico</td>\n",
       "    </tr>\n",
       "    <tr>\n",
       "      <th>219</th>\n",
       "      <td>1956</td>\n",
       "      <td>8</td>\n",
       "      <td>Arkansas</td>\n",
       "    </tr>\n",
       "    <tr>\n",
       "      <th>224</th>\n",
       "      <td>1976</td>\n",
       "      <td>6</td>\n",
       "      <td>Arkansas</td>\n",
       "    </tr>\n",
       "    <tr>\n",
       "      <th>2306</th>\n",
       "      <td>1808</td>\n",
       "      <td>4</td>\n",
       "      <td>Rhode Island</td>\n",
       "    </tr>\n",
       "    <tr>\n",
       "      <th>1828</th>\n",
       "      <td>2020</td>\n",
       "      <td>14</td>\n",
       "      <td>New Jersey</td>\n",
       "    </tr>\n",
       "    <tr>\n",
       "      <th>274</th>\n",
       "      <td>1940</td>\n",
       "      <td>22</td>\n",
       "      <td>California</td>\n",
       "    </tr>\n",
       "    <tr>\n",
       "      <th>1669</th>\n",
       "      <td>1856</td>\n",
       "      <td>0</td>\n",
       "      <td>Nevada</td>\n",
       "    </tr>\n",
       "    <tr>\n",
       "      <th>473</th>\n",
       "      <td>1792</td>\n",
       "      <td>3</td>\n",
       "      <td>Delaware</td>\n",
       "    </tr>\n",
       "    <tr>\n",
       "      <th>752</th>\n",
       "      <td>1964</td>\n",
       "      <td>4</td>\n",
       "      <td>Idaho</td>\n",
       "    </tr>\n",
       "    <tr>\n",
       "      <th>330</th>\n",
       "      <td>1928</td>\n",
       "      <td>6</td>\n",
       "      <td>Colorado</td>\n",
       "    </tr>\n",
       "    <tr>\n",
       "      <th>2873</th>\n",
       "      <td>1952</td>\n",
       "      <td>8</td>\n",
       "      <td>West Virginia</td>\n",
       "    </tr>\n",
       "    <tr>\n",
       "      <th>2579</th>\n",
       "      <td>1956</td>\n",
       "      <td>24</td>\n",
       "      <td>Texas</td>\n",
       "    </tr>\n",
       "    <tr>\n",
       "      <th>2719</th>\n",
       "      <td>1808</td>\n",
       "      <td>24</td>\n",
       "      <td>Virginia</td>\n",
       "    </tr>\n",
       "    <tr>\n",
       "      <th>1571</th>\n",
       "      <td>1936</td>\n",
       "      <td>4</td>\n",
       "      <td>Montana</td>\n",
       "    </tr>\n",
       "    <tr>\n",
       "      <th>525</th>\n",
       "      <td>2000</td>\n",
       "      <td>3</td>\n",
       "      <td>Delaware</td>\n",
       "    </tr>\n",
       "    <tr>\n",
       "      <th>416</th>\n",
       "      <td>1800</td>\n",
       "      <td>0</td>\n",
       "      <td>D.C.</td>\n",
       "    </tr>\n",
       "    <tr>\n",
       "      <th>802</th>\n",
       "      <td>1928</td>\n",
       "      <td>29</td>\n",
       "      <td>Illinois</td>\n",
       "    </tr>\n",
       "    <tr>\n",
       "      <th>1491</th>\n",
       "      <td>1852</td>\n",
       "      <td>9</td>\n",
       "      <td>Missouri</td>\n",
       "    </tr>\n",
       "    <tr>\n",
       "      <th>1142</th>\n",
       "      <td>1872</td>\n",
       "      <td>7</td>\n",
       "      <td>Maine</td>\n",
       "    </tr>\n",
       "    <tr>\n",
       "      <th>1072</th>\n",
       "      <td>1828</td>\n",
       "      <td>5</td>\n",
       "      <td>Louisiana</td>\n",
       "    </tr>\n",
       "  </tbody>\n",
       "</table>\n",
       "</div>"
      ],
      "text/plain": [
       "      Year  Electoral college vote count          State\n",
       "1860  1912                             3     New Mexico\n",
       "219   1956                             8       Arkansas\n",
       "224   1976                             6       Arkansas\n",
       "2306  1808                             4   Rhode Island\n",
       "1828  2020                            14     New Jersey\n",
       "274   1940                            22     California\n",
       "1669  1856                             0         Nevada\n",
       "473   1792                             3       Delaware\n",
       "752   1964                             4          Idaho\n",
       "330   1928                             6       Colorado\n",
       "2873  1952                             8  West Virginia\n",
       "2579  1956                            24          Texas\n",
       "2719  1808                            24       Virginia\n",
       "1571  1936                             4        Montana\n",
       "525   2000                             3       Delaware\n",
       "416   1800                             0           D.C.\n",
       "802   1928                            29       Illinois\n",
       "1491  1852                             9       Missouri\n",
       "1142  1872                             7          Maine\n",
       "1072  1828                             5      Louisiana"
      ]
     },
     "execution_count": 22,
     "metadata": {},
     "output_type": "execute_result"
    }
   ],
   "source": [
    "df.sample(20)"
   ]
  },
  {
   "cell_type": "code",
   "execution_count": null,
   "metadata": {},
   "outputs": [],
   "source": []
  }
 ],
 "metadata": {
  "kernelspec": {
   "display_name": "Python 3",
   "language": "python",
   "name": "python3"
  },
  "language_info": {
   "codemirror_mode": {
    "name": "ipython",
    "version": 3
   },
   "file_extension": ".py",
   "mimetype": "text/x-python",
   "name": "python",
   "nbconvert_exporter": "python",
   "pygments_lexer": "ipython3",
   "version": "3.7.4"
  }
 },
 "nbformat": 4,
 "nbformat_minor": 4
}
