{
 "cells": [
  {
   "cell_type": "code",
   "execution_count": 119,
   "metadata": {},
   "outputs": [
    {
     "data": {
      "text/plain": [
       "RendererRegistry.enable('mimetype')"
      ]
     },
     "execution_count": 119,
     "metadata": {},
     "output_type": "execute_result"
    }
   ],
   "source": [
    "import pandas as pd\n",
    "import numpy as np \n",
    "import altair as alt\n",
    "from os import listdir\n",
    "\n",
    "alt.renderers.enable('mimetype')"
   ]
  },
  {
   "cell_type": "code",
   "execution_count": 120,
   "metadata": {},
   "outputs": [],
   "source": [
    "filepaths = [f for f in listdir(\"../data/county-pres\") if f.endswith('.csv')]"
   ]
  },
  {
   "cell_type": "code",
   "execution_count": 121,
   "metadata": {},
   "outputs": [],
   "source": [
    "def process_df(filepath):\n",
    "    df = pd.read_csv(\"../data/county-pres/\" + filepath).assign(year=int(filepath.split('_')[0])).iloc[1:]\n",
    "    df = pd.melt(\n",
    "        df, \n",
    "        id_vars=list(df.columns[:4]) + ['year'], \n",
    "        value_vars=list(df.columns[4:-1]),\n",
    "        var_name='candidate', \n",
    "        value_name='votes'\n",
    "    )\n",
    "    df['votes'] = df['votes'].astype('int')\n",
    "    \n",
    "    return df"
   ]
  },
  {
   "cell_type": "code",
   "execution_count": 122,
   "metadata": {},
   "outputs": [],
   "source": [
    "dfs = list(map(\n",
    "    lambda path: process_df(path),\n",
    "    filepaths\n",
    "))"
   ]
  },
  {
   "cell_type": "code",
   "execution_count": 123,
   "metadata": {},
   "outputs": [],
   "source": [
    "county_pres = pd.concat(dfs)"
   ]
  },
  {
   "cell_type": "code",
   "execution_count": 124,
   "metadata": {},
   "outputs": [
    {
     "data": {
      "text/html": [
       "<div>\n",
       "<style scoped>\n",
       "    .dataframe tbody tr th:only-of-type {\n",
       "        vertical-align: middle;\n",
       "    }\n",
       "\n",
       "    .dataframe tbody tr th {\n",
       "        vertical-align: top;\n",
       "    }\n",
       "\n",
       "    .dataframe thead th {\n",
       "        text-align: right;\n",
       "    }\n",
       "</style>\n",
       "<table border=\"1\" class=\"dataframe\">\n",
       "  <thead>\n",
       "    <tr style=\"text-align: right;\">\n",
       "      <th></th>\n",
       "      <th>FIPS</th>\n",
       "      <th>Geographic Name</th>\n",
       "      <th>Geographic Subtype</th>\n",
       "      <th>Total Vote</th>\n",
       "      <th>year</th>\n",
       "      <th>candidate</th>\n",
       "      <th>votes</th>\n",
       "    </tr>\n",
       "  </thead>\n",
       "  <tbody>\n",
       "    <tr>\n",
       "      <th>0</th>\n",
       "      <td>1001</td>\n",
       "      <td>Autauga</td>\n",
       "      <td>County</td>\n",
       "      <td>2538</td>\n",
       "      <td>1960</td>\n",
       "      <td>John Kennedy</td>\n",
       "      <td>1324</td>\n",
       "    </tr>\n",
       "    <tr>\n",
       "      <th>1</th>\n",
       "      <td>1003</td>\n",
       "      <td>Baldwin</td>\n",
       "      <td>County</td>\n",
       "      <td>10636</td>\n",
       "      <td>1960</td>\n",
       "      <td>John Kennedy</td>\n",
       "      <td>5647</td>\n",
       "    </tr>\n",
       "    <tr>\n",
       "      <th>2</th>\n",
       "      <td>1005</td>\n",
       "      <td>Barbour</td>\n",
       "      <td>County</td>\n",
       "      <td>3332</td>\n",
       "      <td>1960</td>\n",
       "      <td>John Kennedy</td>\n",
       "      <td>2148</td>\n",
       "    </tr>\n",
       "    <tr>\n",
       "      <th>3</th>\n",
       "      <td>1007</td>\n",
       "      <td>Bibb</td>\n",
       "      <td>County</td>\n",
       "      <td>2752</td>\n",
       "      <td>1960</td>\n",
       "      <td>John Kennedy</td>\n",
       "      <td>1697</td>\n",
       "    </tr>\n",
       "    <tr>\n",
       "      <th>4</th>\n",
       "      <td>1009</td>\n",
       "      <td>Blount</td>\n",
       "      <td>County</td>\n",
       "      <td>5974</td>\n",
       "      <td>1960</td>\n",
       "      <td>John Kennedy</td>\n",
       "      <td>3404</td>\n",
       "    </tr>\n",
       "    <tr>\n",
       "      <th>...</th>\n",
       "      <td>...</td>\n",
       "      <td>...</td>\n",
       "      <td>...</td>\n",
       "      <td>...</td>\n",
       "      <td>...</td>\n",
       "      <td>...</td>\n",
       "      <td>...</td>\n",
       "    </tr>\n",
       "    <tr>\n",
       "      <th>71571</th>\n",
       "      <td>56037</td>\n",
       "      <td>Sweetwater</td>\n",
       "      <td>County</td>\n",
       "      <td>12067</td>\n",
       "      <td>1980</td>\n",
       "      <td>Harley McLain</td>\n",
       "      <td>0</td>\n",
       "    </tr>\n",
       "    <tr>\n",
       "      <th>71572</th>\n",
       "      <td>56039</td>\n",
       "      <td>Teton</td>\n",
       "      <td>County</td>\n",
       "      <td>5212</td>\n",
       "      <td>1980</td>\n",
       "      <td>Harley McLain</td>\n",
       "      <td>0</td>\n",
       "    </tr>\n",
       "    <tr>\n",
       "      <th>71573</th>\n",
       "      <td>56041</td>\n",
       "      <td>Uinta</td>\n",
       "      <td>County</td>\n",
       "      <td>4151</td>\n",
       "      <td>1980</td>\n",
       "      <td>Harley McLain</td>\n",
       "      <td>0</td>\n",
       "    </tr>\n",
       "    <tr>\n",
       "      <th>71574</th>\n",
       "      <td>56043</td>\n",
       "      <td>Washakie</td>\n",
       "      <td>County</td>\n",
       "      <td>3897</td>\n",
       "      <td>1980</td>\n",
       "      <td>Harley McLain</td>\n",
       "      <td>0</td>\n",
       "    </tr>\n",
       "    <tr>\n",
       "      <th>71575</th>\n",
       "      <td>56045</td>\n",
       "      <td>Weston</td>\n",
       "      <td>County</td>\n",
       "      <td>2970</td>\n",
       "      <td>1980</td>\n",
       "      <td>Harley McLain</td>\n",
       "      <td>0</td>\n",
       "    </tr>\n",
       "  </tbody>\n",
       "</table>\n",
       "<p>894929 rows × 7 columns</p>\n",
       "</div>"
      ],
      "text/plain": [
       "        FIPS Geographic Name Geographic Subtype Total Vote  year  \\\n",
       "0       1001         Autauga             County       2538  1960   \n",
       "1       1003         Baldwin             County      10636  1960   \n",
       "2       1005         Barbour             County       3332  1960   \n",
       "3       1007            Bibb             County       2752  1960   \n",
       "4       1009          Blount             County       5974  1960   \n",
       "...      ...             ...                ...        ...   ...   \n",
       "71571  56037      Sweetwater             County      12067  1980   \n",
       "71572  56039           Teton             County       5212  1980   \n",
       "71573  56041           Uinta             County       4151  1980   \n",
       "71574  56043        Washakie             County       3897  1980   \n",
       "71575  56045          Weston             County       2970  1980   \n",
       "\n",
       "           candidate  votes  \n",
       "0       John Kennedy   1324  \n",
       "1       John Kennedy   5647  \n",
       "2       John Kennedy   2148  \n",
       "3       John Kennedy   1697  \n",
       "4       John Kennedy   3404  \n",
       "...              ...    ...  \n",
       "71571  Harley McLain      0  \n",
       "71572  Harley McLain      0  \n",
       "71573  Harley McLain      0  \n",
       "71574  Harley McLain      0  \n",
       "71575  Harley McLain      0  \n",
       "\n",
       "[894929 rows x 7 columns]"
      ]
     },
     "execution_count": 124,
     "metadata": {},
     "output_type": "execute_result"
    }
   ],
   "source": [
    "county_pres"
   ]
  },
  {
   "cell_type": "code",
   "execution_count": 125,
   "metadata": {},
   "outputs": [],
   "source": [
    "years = county_pres.year.unique()\n",
    "years.sort()"
   ]
  },
  {
   "cell_type": "code",
   "execution_count": 126,
   "metadata": {},
   "outputs": [
    {
     "data": {
      "text/plain": [
       "array([1912, 1916, 1920, 1924, 1928, 1932, 1936, 1940, 1944, 1948, 1952,\n",
       "       1956, 1960, 1964, 1968, 1972, 1976, 1980, 1984, 1988, 1992, 1996])"
      ]
     },
     "execution_count": 126,
     "metadata": {},
     "output_type": "execute_result"
    }
   ],
   "source": [
    "years"
   ]
  },
  {
   "cell_type": "code",
   "execution_count": 127,
   "metadata": {},
   "outputs": [
    {
     "name": "stdout",
     "output_type": "stream",
     "text": [
      "<class 'pandas.core.frame.DataFrame'>\n",
      "Int64Index: 894929 entries, 0 to 71575\n",
      "Data columns (total 7 columns):\n",
      " #   Column              Non-Null Count   Dtype \n",
      "---  ------              --------------   ----- \n",
      " 0   FIPS                894929 non-null  object\n",
      " 1   Geographic Name     894929 non-null  object\n",
      " 2   Geographic Subtype  894929 non-null  object\n",
      " 3   Total Vote          894929 non-null  object\n",
      " 4   year                894929 non-null  int64 \n",
      " 5   candidate           894929 non-null  object\n",
      " 6   votes               894929 non-null  int64 \n",
      "dtypes: int64(2), object(5)\n",
      "memory usage: 54.6+ MB\n"
     ]
    }
   ],
   "source": [
    "county_pres.info()"
   ]
  },
  {
   "cell_type": "code",
   "execution_count": 128,
   "metadata": {},
   "outputs": [],
   "source": [
    "county_pres = county_pres.sort_values(by=['year', 'FIPS', 'votes'], ascending=[False, True, False])"
   ]
  },
  {
   "cell_type": "code",
   "execution_count": 129,
   "metadata": {},
   "outputs": [],
   "source": [
    "county_pres.to_csv('../data/county_pres_1996-1912.csv', index=False)"
   ]
  },
  {
   "cell_type": "code",
   "execution_count": null,
   "metadata": {},
   "outputs": [],
   "source": []
  }
 ],
 "metadata": {
  "kernelspec": {
   "display_name": "Python 3",
   "language": "python",
   "name": "python3"
  },
  "language_info": {
   "codemirror_mode": {
    "name": "ipython",
    "version": 3
   },
   "file_extension": ".py",
   "mimetype": "text/x-python",
   "name": "python",
   "nbconvert_exporter": "python",
   "pygments_lexer": "ipython3",
   "version": "3.7.4"
  }
 },
 "nbformat": 4,
 "nbformat_minor": 4
}
