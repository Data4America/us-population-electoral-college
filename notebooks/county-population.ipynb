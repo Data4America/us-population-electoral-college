{
 "cells": [
  {
   "cell_type": "code",
   "execution_count": 10,
   "metadata": {},
   "outputs": [],
   "source": [
    "import pandas as pd"
   ]
  },
  {
   "cell_type": "code",
   "execution_count": 11,
   "metadata": {},
   "outputs": [],
   "source": [
    "county_pop = pd.read_excel('../public_data/county_population_raw.xlsx')"
   ]
  },
  {
   "cell_type": "code",
   "execution_count": 12,
   "metadata": {},
   "outputs": [
    {
     "data": {
      "text/html": [
       "<div>\n",
       "<style scoped>\n",
       "    .dataframe tbody tr th:only-of-type {\n",
       "        vertical-align: middle;\n",
       "    }\n",
       "\n",
       "    .dataframe tbody tr th {\n",
       "        vertical-align: top;\n",
       "    }\n",
       "\n",
       "    .dataframe thead th {\n",
       "        text-align: right;\n",
       "    }\n",
       "</style>\n",
       "<table border=\"1\" class=\"dataframe\">\n",
       "  <thead>\n",
       "    <tr style=\"text-align: right;\">\n",
       "      <th></th>\n",
       "      <th>Link</th>\n",
       "      <th>1790</th>\n",
       "      <th>1800</th>\n",
       "      <th>1810</th>\n",
       "      <th>1820</th>\n",
       "      <th>1830</th>\n",
       "      <th>1840</th>\n",
       "      <th>1850</th>\n",
       "      <th>1860</th>\n",
       "      <th>1870</th>\n",
       "      <th>...</th>\n",
       "      <th>1970</th>\n",
       "      <th>1980</th>\n",
       "      <th>1990</th>\n",
       "      <th>2000</th>\n",
       "      <th>2010</th>\n",
       "      <th>2016 (est.)</th>\n",
       "      <th>2017 (est.)</th>\n",
       "      <th>2018 (est.)</th>\n",
       "      <th>2019 (est.)</th>\n",
       "      <th>2020 (est.)</th>\n",
       "    </tr>\n",
       "  </thead>\n",
       "  <tbody>\n",
       "    <tr>\n",
       "      <th>0</th>\n",
       "      <td>https://en.wikipedia.org/wiki/Autauga_County,_...</td>\n",
       "      <td>NaN</td>\n",
       "      <td>NaN</td>\n",
       "      <td>NaN</td>\n",
       "      <td>3,853</td>\n",
       "      <td>11,874</td>\n",
       "      <td>14,342</td>\n",
       "      <td>15,023</td>\n",
       "      <td>16,739</td>\n",
       "      <td>11,623</td>\n",
       "      <td>...</td>\n",
       "      <td>24,460</td>\n",
       "      <td>32,259</td>\n",
       "      <td>34,222</td>\n",
       "      <td>43,671</td>\n",
       "      <td>54,571</td>\n",
       "      <td>NaN</td>\n",
       "      <td>NaN</td>\n",
       "      <td>NaN</td>\n",
       "      <td>55,869</td>\n",
       "      <td>NaN</td>\n",
       "    </tr>\n",
       "    <tr>\n",
       "      <th>1</th>\n",
       "      <td>https://en.wikipedia.org/wiki/Baldwin_County,_...</td>\n",
       "      <td>NaN</td>\n",
       "      <td>NaN</td>\n",
       "      <td>1,427</td>\n",
       "      <td>1,713</td>\n",
       "      <td>2,324</td>\n",
       "      <td>2,951</td>\n",
       "      <td>4,414</td>\n",
       "      <td>7,530</td>\n",
       "      <td>6,004</td>\n",
       "      <td>...</td>\n",
       "      <td>59,382</td>\n",
       "      <td>78,556</td>\n",
       "      <td>98,280</td>\n",
       "      <td>140,415</td>\n",
       "      <td>182,265</td>\n",
       "      <td>NaN</td>\n",
       "      <td>NaN</td>\n",
       "      <td>NaN</td>\n",
       "      <td>223,234</td>\n",
       "      <td>NaN</td>\n",
       "    </tr>\n",
       "    <tr>\n",
       "      <th>2</th>\n",
       "      <td>https://en.wikipedia.org/wiki/Barbour_County,_...</td>\n",
       "      <td>NaN</td>\n",
       "      <td>NaN</td>\n",
       "      <td>NaN</td>\n",
       "      <td>NaN</td>\n",
       "      <td>NaN</td>\n",
       "      <td>12,024</td>\n",
       "      <td>23,632</td>\n",
       "      <td>30,812</td>\n",
       "      <td>29,309</td>\n",
       "      <td>...</td>\n",
       "      <td>22,543</td>\n",
       "      <td>24,756</td>\n",
       "      <td>25,417</td>\n",
       "      <td>29,038</td>\n",
       "      <td>27,457</td>\n",
       "      <td>NaN</td>\n",
       "      <td>NaN</td>\n",
       "      <td>NaN</td>\n",
       "      <td>24,686</td>\n",
       "      <td>NaN</td>\n",
       "    </tr>\n",
       "    <tr>\n",
       "      <th>3</th>\n",
       "      <td>https://en.wikipedia.org/wiki/Bibb_County,_Ala...</td>\n",
       "      <td>NaN</td>\n",
       "      <td>NaN</td>\n",
       "      <td>NaN</td>\n",
       "      <td>3,676</td>\n",
       "      <td>6,306</td>\n",
       "      <td>8,284</td>\n",
       "      <td>9,969</td>\n",
       "      <td>11,894</td>\n",
       "      <td>7,469</td>\n",
       "      <td>...</td>\n",
       "      <td>13,812</td>\n",
       "      <td>15,723</td>\n",
       "      <td>16,576</td>\n",
       "      <td>20,826</td>\n",
       "      <td>22,915</td>\n",
       "      <td>NaN</td>\n",
       "      <td>NaN</td>\n",
       "      <td>NaN</td>\n",
       "      <td>22,394</td>\n",
       "      <td>NaN</td>\n",
       "    </tr>\n",
       "    <tr>\n",
       "      <th>4</th>\n",
       "      <td>https://en.wikipedia.org/wiki/Blount_County,_A...</td>\n",
       "      <td>NaN</td>\n",
       "      <td>NaN</td>\n",
       "      <td>NaN</td>\n",
       "      <td>2,415</td>\n",
       "      <td>4,233</td>\n",
       "      <td>5,570</td>\n",
       "      <td>7,367</td>\n",
       "      <td>10,865</td>\n",
       "      <td>9,945</td>\n",
       "      <td>...</td>\n",
       "      <td>26,853</td>\n",
       "      <td>36,459</td>\n",
       "      <td>39,248</td>\n",
       "      <td>51,024</td>\n",
       "      <td>57,322</td>\n",
       "      <td>NaN</td>\n",
       "      <td>NaN</td>\n",
       "      <td>NaN</td>\n",
       "      <td>57,826</td>\n",
       "      <td>NaN</td>\n",
       "    </tr>\n",
       "  </tbody>\n",
       "</table>\n",
       "<p>5 rows × 29 columns</p>\n",
       "</div>"
      ],
      "text/plain": [
       "                                                Link 1790 1800   1810   1820  \\\n",
       "0  https://en.wikipedia.org/wiki/Autauga_County,_...  NaN  NaN    NaN  3,853   \n",
       "1  https://en.wikipedia.org/wiki/Baldwin_County,_...  NaN  NaN  1,427  1,713   \n",
       "2  https://en.wikipedia.org/wiki/Barbour_County,_...  NaN  NaN    NaN    NaN   \n",
       "3  https://en.wikipedia.org/wiki/Bibb_County,_Ala...  NaN  NaN    NaN  3,676   \n",
       "4  https://en.wikipedia.org/wiki/Blount_County,_A...  NaN  NaN    NaN  2,415   \n",
       "\n",
       "     1830    1840    1850    1860    1870  ...    1970    1980    1990  \\\n",
       "0  11,874  14,342  15,023  16,739  11,623  ...  24,460  32,259  34,222   \n",
       "1   2,324   2,951   4,414   7,530   6,004  ...  59,382  78,556  98,280   \n",
       "2     NaN  12,024  23,632  30,812  29,309  ...  22,543  24,756  25,417   \n",
       "3   6,306   8,284   9,969  11,894   7,469  ...  13,812  15,723  16,576   \n",
       "4   4,233   5,570   7,367  10,865   9,945  ...  26,853  36,459  39,248   \n",
       "\n",
       "      2000     2010 2016 (est.) 2017 (est.) 2018 (est.) 2019 (est.)  \\\n",
       "0   43,671   54,571         NaN         NaN         NaN      55,869   \n",
       "1  140,415  182,265         NaN         NaN         NaN     223,234   \n",
       "2   29,038   27,457         NaN         NaN         NaN      24,686   \n",
       "3   20,826   22,915         NaN         NaN         NaN      22,394   \n",
       "4   51,024   57,322         NaN         NaN         NaN      57,826   \n",
       "\n",
       "  2020 (est.)  \n",
       "0         NaN  \n",
       "1         NaN  \n",
       "2         NaN  \n",
       "3         NaN  \n",
       "4         NaN  \n",
       "\n",
       "[5 rows x 29 columns]"
      ]
     },
     "execution_count": 12,
     "metadata": {},
     "output_type": "execute_result"
    }
   ],
   "source": [
    "county_pop.head()"
   ]
  },
  {
   "cell_type": "code",
   "execution_count": 13,
   "metadata": {},
   "outputs": [],
   "source": [
    "county_pop['County'] = county_pop.Link.str.split('/').str[-1].str.split(',').str[0].str.replace('_', ' ')"
   ]
  },
  {
   "cell_type": "code",
   "execution_count": 14,
   "metadata": {},
   "outputs": [],
   "source": [
    "county_pop['State'] = county_pop.Link.str.split('/').str[-1].str.split(',').str[1].str.replace('_', ' ')"
   ]
  },
  {
   "cell_type": "code",
   "execution_count": 15,
   "metadata": {},
   "outputs": [
    {
     "name": "stdout",
     "output_type": "stream",
     "text": [
      "<class 'pandas.core.frame.DataFrame'>\n",
      "RangeIndex: 3124 entries, 0 to 3123\n",
      "Data columns (total 31 columns):\n",
      " #   Column       Non-Null Count  Dtype \n",
      "---  ------       --------------  ----- \n",
      " 0   Link         3124 non-null   object\n",
      " 1   1790         254 non-null    object\n",
      " 2   1800         380 non-null    object\n",
      " 3   1810         516 non-null    object\n",
      " 4   1820         709 non-null    object\n",
      " 5   1830         947 non-null    object\n",
      " 6   1840         1225 non-null   object\n",
      " 7   1850         1571 non-null   object\n",
      " 8   1860         1997 non-null   object\n",
      " 9   1870         2214 non-null   object\n",
      " 10  1880         2490 non-null   object\n",
      " 11  1890         2682 non-null   object\n",
      " 12  1900         2811 non-null   object\n",
      " 13  1910         2955 non-null   object\n",
      " 14  1920         3076 non-null   object\n",
      " 15  1930         3107 non-null   object\n",
      " 16  1940         3108 non-null   object\n",
      " 17  1950         3108 non-null   object\n",
      " 18  1960         3108 non-null   object\n",
      " 19  1970         3109 non-null   object\n",
      " 20  1980         3110 non-null   object\n",
      " 21  1990         3112 non-null   object\n",
      " 22  2000         3112 non-null   object\n",
      " 23  2010         3112 non-null   object\n",
      " 24  2016 (est.)  6 non-null      object\n",
      " 25  2017 (est.)  34 non-null     object\n",
      " 26  2018 (est.)  1245 non-null   object\n",
      " 27  2019 (est.)  1749 non-null   object\n",
      " 28  2020 (est.)  7 non-null      object\n",
      " 29  County       3124 non-null   object\n",
      " 30  State        3119 non-null   object\n",
      "dtypes: object(31)\n",
      "memory usage: 756.7+ KB\n"
     ]
    }
   ],
   "source": [
    "county_pop.info()"
   ]
  },
  {
   "cell_type": "code",
   "execution_count": 16,
   "metadata": {},
   "outputs": [],
   "source": [
    "county_pop.to_csv('../public_data/us_county_population.csv', index=False)"
   ]
  },
  {
   "cell_type": "code",
   "execution_count": 17,
   "metadata": {},
   "outputs": [],
   "source": [
    "county_pop_perc = pd.read_excel('../public_data/county_population_raw.xlsx', sheet_name=1)"
   ]
  },
  {
   "cell_type": "code",
   "execution_count": 18,
   "metadata": {},
   "outputs": [
    {
     "data": {
      "text/html": [
       "<div>\n",
       "<style scoped>\n",
       "    .dataframe tbody tr th:only-of-type {\n",
       "        vertical-align: middle;\n",
       "    }\n",
       "\n",
       "    .dataframe tbody tr th {\n",
       "        vertical-align: top;\n",
       "    }\n",
       "\n",
       "    .dataframe thead th {\n",
       "        text-align: right;\n",
       "    }\n",
       "</style>\n",
       "<table border=\"1\" class=\"dataframe\">\n",
       "  <thead>\n",
       "    <tr style=\"text-align: right;\">\n",
       "      <th></th>\n",
       "      <th>Link</th>\n",
       "      <th>1790</th>\n",
       "      <th>1800</th>\n",
       "      <th>1810</th>\n",
       "      <th>1820</th>\n",
       "      <th>1830</th>\n",
       "      <th>1840</th>\n",
       "      <th>1850</th>\n",
       "      <th>1860</th>\n",
       "      <th>1870</th>\n",
       "      <th>...</th>\n",
       "      <th>1970</th>\n",
       "      <th>1980</th>\n",
       "      <th>1990</th>\n",
       "      <th>2000</th>\n",
       "      <th>2010</th>\n",
       "      <th>2016 (est.)</th>\n",
       "      <th>2017 (est.)</th>\n",
       "      <th>2018 (est.)</th>\n",
       "      <th>2019 (est.)</th>\n",
       "      <th>2020 (est.)</th>\n",
       "    </tr>\n",
       "  </thead>\n",
       "  <tbody>\n",
       "    <tr>\n",
       "      <th>0</th>\n",
       "      <td>https://en.wikipedia.org/wiki/Autauga_County,_...</td>\n",
       "      <td>NaN</td>\n",
       "      <td>NaN</td>\n",
       "      <td>NaN</td>\n",
       "      <td>—</td>\n",
       "      <td>208.2%</td>\n",
       "      <td>20.8%</td>\n",
       "      <td>4.7%</td>\n",
       "      <td>11.4%</td>\n",
       "      <td>−30.6%</td>\n",
       "      <td>...</td>\n",
       "      <td>30.5%</td>\n",
       "      <td>31.9%</td>\n",
       "      <td>6.1%</td>\n",
       "      <td>27.6%</td>\n",
       "      <td>25.0%</td>\n",
       "      <td>NaN</td>\n",
       "      <td>NaN</td>\n",
       "      <td>NaN</td>\n",
       "      <td>2.4%</td>\n",
       "      <td>NaN</td>\n",
       "    </tr>\n",
       "    <tr>\n",
       "      <th>1</th>\n",
       "      <td>https://en.wikipedia.org/wiki/Baldwin_County,_...</td>\n",
       "      <td>NaN</td>\n",
       "      <td>NaN</td>\n",
       "      <td>—</td>\n",
       "      <td>20.0%</td>\n",
       "      <td>35.7%</td>\n",
       "      <td>27.0%</td>\n",
       "      <td>49.6%</td>\n",
       "      <td>70.6%</td>\n",
       "      <td>−20.3%</td>\n",
       "      <td>...</td>\n",
       "      <td>21.0%</td>\n",
       "      <td>32.3%</td>\n",
       "      <td>25.1%</td>\n",
       "      <td>42.9%</td>\n",
       "      <td>29.8%</td>\n",
       "      <td>NaN</td>\n",
       "      <td>NaN</td>\n",
       "      <td>NaN</td>\n",
       "      <td>22.5%</td>\n",
       "      <td>NaN</td>\n",
       "    </tr>\n",
       "    <tr>\n",
       "      <th>2</th>\n",
       "      <td>https://en.wikipedia.org/wiki/Barbour_County,_...</td>\n",
       "      <td>NaN</td>\n",
       "      <td>NaN</td>\n",
       "      <td>NaN</td>\n",
       "      <td>NaN</td>\n",
       "      <td>NaN</td>\n",
       "      <td>—</td>\n",
       "      <td>96.5%</td>\n",
       "      <td>30.4%</td>\n",
       "      <td>−4.9%</td>\n",
       "      <td>...</td>\n",
       "      <td>−8.7%</td>\n",
       "      <td>9.8%</td>\n",
       "      <td>2.7%</td>\n",
       "      <td>14.2%</td>\n",
       "      <td>−5.4%</td>\n",
       "      <td>NaN</td>\n",
       "      <td>NaN</td>\n",
       "      <td>NaN</td>\n",
       "      <td>−10.1%</td>\n",
       "      <td>NaN</td>\n",
       "    </tr>\n",
       "    <tr>\n",
       "      <th>3</th>\n",
       "      <td>https://en.wikipedia.org/wiki/Bibb_County,_Ala...</td>\n",
       "      <td>NaN</td>\n",
       "      <td>NaN</td>\n",
       "      <td>NaN</td>\n",
       "      <td>—</td>\n",
       "      <td>71.5%</td>\n",
       "      <td>31.4%</td>\n",
       "      <td>20.3%</td>\n",
       "      <td>19.3%</td>\n",
       "      <td>−37.2%</td>\n",
       "      <td>...</td>\n",
       "      <td>−3.8%</td>\n",
       "      <td>13.8%</td>\n",
       "      <td>5.4%</td>\n",
       "      <td>25.6%</td>\n",
       "      <td>10.0%</td>\n",
       "      <td>NaN</td>\n",
       "      <td>NaN</td>\n",
       "      <td>NaN</td>\n",
       "      <td>−2.3%</td>\n",
       "      <td>NaN</td>\n",
       "    </tr>\n",
       "    <tr>\n",
       "      <th>4</th>\n",
       "      <td>https://en.wikipedia.org/wiki/Blount_County,_A...</td>\n",
       "      <td>NaN</td>\n",
       "      <td>NaN</td>\n",
       "      <td>NaN</td>\n",
       "      <td>—</td>\n",
       "      <td>75.3%</td>\n",
       "      <td>31.6%</td>\n",
       "      <td>32.3%</td>\n",
       "      <td>47.5%</td>\n",
       "      <td>−8.5%</td>\n",
       "      <td>...</td>\n",
       "      <td>5.5%</td>\n",
       "      <td>35.8%</td>\n",
       "      <td>7.6%</td>\n",
       "      <td>30.0%</td>\n",
       "      <td>12.3%</td>\n",
       "      <td>NaN</td>\n",
       "      <td>NaN</td>\n",
       "      <td>NaN</td>\n",
       "      <td>0.9%</td>\n",
       "      <td>NaN</td>\n",
       "    </tr>\n",
       "  </tbody>\n",
       "</table>\n",
       "<p>5 rows × 29 columns</p>\n",
       "</div>"
      ],
      "text/plain": [
       "                                                Link 1790 1800 1810   1820  \\\n",
       "0  https://en.wikipedia.org/wiki/Autauga_County,_...  NaN  NaN  NaN      —   \n",
       "1  https://en.wikipedia.org/wiki/Baldwin_County,_...  NaN  NaN    —  20.0%   \n",
       "2  https://en.wikipedia.org/wiki/Barbour_County,_...  NaN  NaN  NaN    NaN   \n",
       "3  https://en.wikipedia.org/wiki/Bibb_County,_Ala...  NaN  NaN  NaN      —   \n",
       "4  https://en.wikipedia.org/wiki/Blount_County,_A...  NaN  NaN  NaN      —   \n",
       "\n",
       "     1830   1840   1850   1860    1870  ...   1970   1980   1990   2000  \\\n",
       "0  208.2%  20.8%   4.7%  11.4%  −30.6%  ...  30.5%  31.9%   6.1%  27.6%   \n",
       "1   35.7%  27.0%  49.6%  70.6%  −20.3%  ...  21.0%  32.3%  25.1%  42.9%   \n",
       "2     NaN      —  96.5%  30.4%   −4.9%  ...  −8.7%   9.8%   2.7%  14.2%   \n",
       "3   71.5%  31.4%  20.3%  19.3%  −37.2%  ...  −3.8%  13.8%   5.4%  25.6%   \n",
       "4   75.3%  31.6%  32.3%  47.5%   −8.5%  ...   5.5%  35.8%   7.6%  30.0%   \n",
       "\n",
       "    2010 2016 (est.) 2017 (est.) 2018 (est.) 2019 (est.) 2020 (est.)  \n",
       "0  25.0%         NaN         NaN         NaN        2.4%         NaN  \n",
       "1  29.8%         NaN         NaN         NaN       22.5%         NaN  \n",
       "2  −5.4%         NaN         NaN         NaN      −10.1%         NaN  \n",
       "3  10.0%         NaN         NaN         NaN       −2.3%         NaN  \n",
       "4  12.3%         NaN         NaN         NaN        0.9%         NaN  \n",
       "\n",
       "[5 rows x 29 columns]"
      ]
     },
     "execution_count": 18,
     "metadata": {},
     "output_type": "execute_result"
    }
   ],
   "source": [
    "county_pop_perc.head()"
   ]
  },
  {
   "cell_type": "code",
   "execution_count": 19,
   "metadata": {},
   "outputs": [],
   "source": [
    "county_pop_perc['County'] = county_pop.Link.str.split('/').str[-1].str.split(',').str[0].str.replace('_', ' ')\n",
    "county_pop_perc['State'] = county_pop.Link.str.split('/').str[-1].str.split(',').str[1].str.replace('_', ' ')"
   ]
  },
  {
   "cell_type": "code",
   "execution_count": 20,
   "metadata": {},
   "outputs": [],
   "source": [
    "county_pop_perc.to_csv('../public_data/us_county_population_perc_change.csv', index=False)"
   ]
  },
  {
   "cell_type": "code",
   "execution_count": 1,
   "metadata": {},
   "outputs": [],
   "source": [
    "        moves = (\n",
    "            (2, 1),\n",
    "            (1, 2),\n",
    "            (-2, 1),\n",
    "            (2, -1),\n",
    "            (-1, 2),\n",
    "            (1, -2),\n",
    "            (-2, -1),\n",
    "            (-1, -2)\n",
    "        )"
   ]
  },
  {
   "cell_type": "code",
   "execution_count": 3,
   "metadata": {},
   "outputs": [],
   "source": [
    "coors = set(moves)"
   ]
  },
  {
   "cell_type": "code",
   "execution_count": 4,
   "metadata": {},
   "outputs": [
    {
     "data": {
      "text/plain": [
       "{(-2, -1), (-2, 1), (-1, -2), (-1, 2), (1, -2), (1, 2), (2, -1), (2, 1)}"
      ]
     },
     "execution_count": 4,
     "metadata": {},
     "output_type": "execute_result"
    }
   ],
   "source": [
    "coors"
   ]
  },
  {
   "cell_type": "code",
   "execution_count": 5,
   "metadata": {},
   "outputs": [
    {
     "data": {
      "text/plain": [
       "True"
      ]
     },
     "execution_count": 5,
     "metadata": {},
     "output_type": "execute_result"
    }
   ],
   "source": [
    "(-2, -1) in coors"
   ]
  },
  {
   "cell_type": "code",
   "execution_count": 6,
   "metadata": {},
   "outputs": [
    {
     "ename": "TypeError",
     "evalue": "unsupported operand type(s) for +: 'set' and 'set'",
     "output_type": "error",
     "traceback": [
      "\u001b[0;31m---------------------------------------------------------------------------\u001b[0m",
      "\u001b[0;31mTypeError\u001b[0m                                 Traceback (most recent call last)",
      "\u001b[0;32m<ipython-input-6-3061d3358fd1>\u001b[0m in \u001b[0;36m<module>\u001b[0;34m\u001b[0m\n\u001b[0;32m----> 1\u001b[0;31m \u001b[0;34m{\u001b[0m\u001b[0;34m(\u001b[0m\u001b[0;36m2\u001b[0m\u001b[0;34m,\u001b[0m \u001b[0;36m3\u001b[0m\u001b[0;34m)\u001b[0m\u001b[0;34m,\u001b[0m \u001b[0;34m(\u001b[0m\u001b[0;36m3\u001b[0m\u001b[0;34m,\u001b[0m\u001b[0;36m2\u001b[0m\u001b[0;34m)\u001b[0m\u001b[0;34m}\u001b[0m \u001b[0;34m+\u001b[0m \u001b[0;34m{\u001b[0m\u001b[0;34m(\u001b[0m\u001b[0;36m1\u001b[0m\u001b[0;34m,\u001b[0m\u001b[0;36m1\u001b[0m\u001b[0;34m)\u001b[0m\u001b[0;34m}\u001b[0m\u001b[0;34m\u001b[0m\u001b[0;34m\u001b[0m\u001b[0m\n\u001b[0m",
      "\u001b[0;31mTypeError\u001b[0m: unsupported operand type(s) for +: 'set' and 'set'"
     ]
    }
   ],
   "source": [
    "{(2, 3), (3,2)} + {(1,1)}"
   ]
  },
  {
   "cell_type": "code",
   "execution_count": 7,
   "metadata": {},
   "outputs": [
    {
     "data": {
      "text/plain": [
       "[1, 2, 3]"
      ]
     },
     "execution_count": 7,
     "metadata": {},
     "output_type": "execute_result"
    }
   ],
   "source": [
    "list([1,2,3])"
   ]
  },
  {
   "cell_type": "code",
   "execution_count": 9,
   "metadata": {},
   "outputs": [],
   "source": [
    "a = set([1,2,3])"
   ]
  },
  {
   "cell_type": "code",
   "execution_count": 10,
   "metadata": {},
   "outputs": [
    {
     "data": {
      "text/plain": [
       "{1, 2, 3}"
      ]
     },
     "execution_count": 10,
     "metadata": {},
     "output_type": "execute_result"
    }
   ],
   "source": [
    "set(a)"
   ]
  },
  {
   "cell_type": "code",
   "execution_count": null,
   "metadata": {},
   "outputs": [],
   "source": []
  }
 ],
 "metadata": {
  "kernelspec": {
   "display_name": "Python 3",
   "language": "python",
   "name": "python3"
  },
  "language_info": {
   "codemirror_mode": {
    "name": "ipython",
    "version": 3
   },
   "file_extension": ".py",
   "mimetype": "text/x-python",
   "name": "python",
   "nbconvert_exporter": "python",
   "pygments_lexer": "ipython3",
   "version": "3.7.4"
  }
 },
 "nbformat": 4,
 "nbformat_minor": 4
}
