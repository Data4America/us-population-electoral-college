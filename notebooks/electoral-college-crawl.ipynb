{
 "cells": [
  {
   "cell_type": "code",
   "execution_count": 1,
   "metadata": {},
   "outputs": [],
   "source": [
    "from bs4 import BeautifulSoup\n",
    "import requests\n",
    "import re\n",
    "import pandas as pd"
   ]
  },
  {
   "cell_type": "code",
   "execution_count": 2,
   "metadata": {},
   "outputs": [],
   "source": [
    "us_electoral_college_wiki_link = 'https://en.wikipedia.org/wiki/United_States_Electoral_College'\n",
    "request = requests.get(us_electoral_college_wiki_link)\n",
    "page = BeautifulSoup(request.text)"
   ]
  },
  {
   "cell_type": "code",
   "execution_count": 3,
   "metadata": {},
   "outputs": [],
   "source": [
    "table = page.find(lambda tag: tag.name == 'big' and 'presidential electors' in tag.text).find_parent('table', class_='wikitable sortable')"
   ]
  },
  {
   "cell_type": "code",
   "execution_count": 4,
   "metadata": {},
   "outputs": [],
   "source": [
    "years_headers = table.find_all(lambda tag: tag.name == 'th' and bool(tag.find('a')) and '\\'' in tag.find('a').text)"
   ]
  },
  {
   "cell_type": "code",
   "execution_count": 5,
   "metadata": {},
   "outputs": [],
   "source": [
    "first_state_row = table.find(lambda tag: tag.name == 'a' and tag.attrs['href'] == '/wiki/Alabama').find_parent('tr')"
   ]
  },
  {
   "cell_type": "code",
   "execution_count": 6,
   "metadata": {},
   "outputs": [],
   "source": [
    "state_rows = [first_state_row] + first_state_row.find_next_siblings(lambda tag: tag.name == 'tr' and bool(tag.find('a')))"
   ]
  },
  {
   "cell_type": "code",
   "execution_count": 7,
   "metadata": {},
   "outputs": [],
   "source": [
    "def map_links_to_election_years(links):\n",
    "    return list(map(lambda x: int(x.attrs['title'][:4]), links))"
   ]
  },
  {
   "cell_type": "code",
   "execution_count": 8,
   "metadata": {},
   "outputs": [],
   "source": [
    "years_headers = list(map(lambda x: map_links_to_election_years(x.find_all('a')), years_headers))"
   ]
  },
  {
   "cell_type": "code",
   "execution_count": 9,
   "metadata": {},
   "outputs": [],
   "source": [
    "electoral_college_vote_count_col = []\n",
    "year_col = []\n",
    "state_col = []"
   ]
  },
  {
   "cell_type": "code",
   "execution_count": 10,
   "metadata": {},
   "outputs": [],
   "source": [
    "for state in state_rows:\n",
    "    state_name = state.select('th a')[0].text\n",
    "    count_numbers = state.find_all('td')\n",
    "    \n",
    "    for index, count_ele in enumerate(count_numbers):\n",
    "        years = years_headers[index]\n",
    "        year_count = len(years)\n",
    "        vote_count = int(count_ele.text.strip() or 0)\n",
    "    \n",
    "        year_col += years\n",
    "        electoral_college_vote_count_col += ([vote_count] * year_count)\n",
    "        state_col += ([state_name] * year_count)"
   ]
  },
  {
   "cell_type": "code",
   "execution_count": 11,
   "metadata": {},
   "outputs": [],
   "source": [
    "df = pd.DataFrame({\n",
    "    'Year': year_col,\n",
    "    'Electoral college vote count': electoral_college_vote_count_col,\n",
    "    'State': state_col\n",
    "})"
   ]
  },
  {
   "cell_type": "code",
   "execution_count": 14,
   "metadata": {},
   "outputs": [],
   "source": [
    "df.to_csv('../public_data/electoral_college_vote.csv', index=False)"
   ]
  },
  {
   "cell_type": "code",
   "execution_count": 15,
   "metadata": {},
   "outputs": [
    {
     "data": {
      "text/html": [
       "<div>\n",
       "<style scoped>\n",
       "    .dataframe tbody tr th:only-of-type {\n",
       "        vertical-align: middle;\n",
       "    }\n",
       "\n",
       "    .dataframe tbody tr th {\n",
       "        vertical-align: top;\n",
       "    }\n",
       "\n",
       "    .dataframe thead th {\n",
       "        text-align: right;\n",
       "    }\n",
       "</style>\n",
       "<table border=\"1\" class=\"dataframe\">\n",
       "  <thead>\n",
       "    <tr style=\"text-align: right;\">\n",
       "      <th></th>\n",
       "      <th>Year</th>\n",
       "      <th>Electoral college vote count</th>\n",
       "      <th>State</th>\n",
       "    </tr>\n",
       "  </thead>\n",
       "  <tbody>\n",
       "    <tr>\n",
       "      <th>1374</th>\n",
       "      <td>1856</td>\n",
       "      <td>0</td>\n",
       "      <td>Minnesota</td>\n",
       "    </tr>\n",
       "    <tr>\n",
       "      <th>1373</th>\n",
       "      <td>1852</td>\n",
       "      <td>0</td>\n",
       "      <td>Minnesota</td>\n",
       "    </tr>\n",
       "    <tr>\n",
       "      <th>1320</th>\n",
       "      <td>1876</td>\n",
       "      <td>11</td>\n",
       "      <td>Michigan</td>\n",
       "    </tr>\n",
       "    <tr>\n",
       "      <th>756</th>\n",
       "      <td>1980</td>\n",
       "      <td>4</td>\n",
       "      <td>Idaho</td>\n",
       "    </tr>\n",
       "    <tr>\n",
       "      <th>2477</th>\n",
       "      <td>2020</td>\n",
       "      <td>3</td>\n",
       "      <td>South Dakota</td>\n",
       "    </tr>\n",
       "    <tr>\n",
       "      <th>2648</th>\n",
       "      <td>1996</td>\n",
       "      <td>5</td>\n",
       "      <td>Utah</td>\n",
       "    </tr>\n",
       "    <tr>\n",
       "      <th>2982</th>\n",
       "      <td>1916</td>\n",
       "      <td>3</td>\n",
       "      <td>Wyoming</td>\n",
       "    </tr>\n",
       "    <tr>\n",
       "      <th>106</th>\n",
       "      <td>1976</td>\n",
       "      <td>3</td>\n",
       "      <td>Alaska</td>\n",
       "    </tr>\n",
       "    <tr>\n",
       "      <th>1047</th>\n",
       "      <td>1964</td>\n",
       "      <td>9</td>\n",
       "      <td>Kentucky</td>\n",
       "    </tr>\n",
       "    <tr>\n",
       "      <th>1947</th>\n",
       "      <td>1788</td>\n",
       "      <td>0</td>\n",
       "      <td>North Carolina</td>\n",
       "    </tr>\n",
       "    <tr>\n",
       "      <th>1811</th>\n",
       "      <td>1952</td>\n",
       "      <td>16</td>\n",
       "      <td>New Jersey</td>\n",
       "    </tr>\n",
       "    <tr>\n",
       "      <th>1410</th>\n",
       "      <td>2000</td>\n",
       "      <td>10</td>\n",
       "      <td>Minnesota</td>\n",
       "    </tr>\n",
       "    <tr>\n",
       "      <th>2010</th>\n",
       "      <td>1804</td>\n",
       "      <td>0</td>\n",
       "      <td>North Dakota</td>\n",
       "    </tr>\n",
       "    <tr>\n",
       "      <th>71</th>\n",
       "      <td>1836</td>\n",
       "      <td>0</td>\n",
       "      <td>Alaska</td>\n",
       "    </tr>\n",
       "    <tr>\n",
       "      <th>720</th>\n",
       "      <td>1836</td>\n",
       "      <td>0</td>\n",
       "      <td>Idaho</td>\n",
       "    </tr>\n",
       "    <tr>\n",
       "      <th>1391</th>\n",
       "      <td>1924</td>\n",
       "      <td>12</td>\n",
       "      <td>Minnesota</td>\n",
       "    </tr>\n",
       "    <tr>\n",
       "      <th>783</th>\n",
       "      <td>1852</td>\n",
       "      <td>11</td>\n",
       "      <td>Illinois</td>\n",
       "    </tr>\n",
       "    <tr>\n",
       "      <th>840</th>\n",
       "      <td>1844</td>\n",
       "      <td>12</td>\n",
       "      <td>Indiana</td>\n",
       "    </tr>\n",
       "    <tr>\n",
       "      <th>545</th>\n",
       "      <td>1844</td>\n",
       "      <td>0</td>\n",
       "      <td>Florida</td>\n",
       "    </tr>\n",
       "    <tr>\n",
       "      <th>405</th>\n",
       "      <td>1992</td>\n",
       "      <td>8</td>\n",
       "      <td>Connecticut</td>\n",
       "    </tr>\n",
       "  </tbody>\n",
       "</table>\n",
       "</div>"
      ],
      "text/plain": [
       "      Year  Electoral college vote count           State\n",
       "1374  1856                             0       Minnesota\n",
       "1373  1852                             0       Minnesota\n",
       "1320  1876                            11        Michigan\n",
       "756   1980                             4           Idaho\n",
       "2477  2020                             3    South Dakota\n",
       "2648  1996                             5            Utah\n",
       "2982  1916                             3         Wyoming\n",
       "106   1976                             3          Alaska\n",
       "1047  1964                             9        Kentucky\n",
       "1947  1788                             0  North Carolina\n",
       "1811  1952                            16      New Jersey\n",
       "1410  2000                            10       Minnesota\n",
       "2010  1804                             0    North Dakota\n",
       "71    1836                             0          Alaska\n",
       "720   1836                             0           Idaho\n",
       "1391  1924                            12       Minnesota\n",
       "783   1852                            11        Illinois\n",
       "840   1844                            12         Indiana\n",
       "545   1844                             0         Florida\n",
       "405   1992                             8     Connecticut"
      ]
     },
     "execution_count": 15,
     "metadata": {},
     "output_type": "execute_result"
    }
   ],
   "source": [
    "df.sample(20)"
   ]
  },
  {
   "cell_type": "code",
   "execution_count": null,
   "metadata": {},
   "outputs": [],
   "source": []
  }
 ],
 "metadata": {
  "kernelspec": {
   "display_name": "Python 3",
   "language": "python",
   "name": "python3"
  },
  "language_info": {
   "codemirror_mode": {
    "name": "ipython",
    "version": 3
   },
   "file_extension": ".py",
   "mimetype": "text/x-python",
   "name": "python",
   "nbconvert_exporter": "python",
   "pygments_lexer": "ipython3",
   "version": "3.7.4"
  }
 },
 "nbformat": 4,
 "nbformat_minor": 4
}
